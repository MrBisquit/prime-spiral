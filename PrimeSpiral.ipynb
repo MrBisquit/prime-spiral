{
 "cells": [
  {
   "cell_type": "code",
   "execution_count": 13,
   "id": "d6579572-8bf8-4af3-99ac-39d90c08a265",
   "metadata": {},
   "outputs": [],
   "source": [
    "import math\n",
    "import turtle # How I'm drawing the prime spiral\n",
    "\n",
    "# The maximum number in the spiral is (canv_length / step_size)^2\n",
    "# That number will be in the top left corner (if it's even) or \n",
    "# bottom right corner (if it's odd)\n",
    "canv_length = 400\n",
    "step_size = 10\n",
    "\n",
    "# The radius of the dots drawn on prime numbers\n",
    "dot_radius = step_size\n",
    "\n",
    "# Whether or not we want to show the path taken by\n",
    "# turtle pen (true = show path, false = don't)\n",
    "show_path = True\n",
    "\n",
    "# Screen that we draw the thing on\n",
    "my_screen = turtle.Screen()\n",
    "my_screen.screensize(canv_length, canv_length, \"#2d2d2d\") # Background is dark mode"
   ]
  },
  {
   "cell_type": "code",
   "execution_count": 14,
   "id": "d8a226ff-113b-468f-90dc-18b5dc75831f",
   "metadata": {},
   "outputs": [],
   "source": [
    "# Clears the screen and resets the position\n",
    "my_screen.resetscreen()"
   ]
  },
  {
   "cell_type": "code",
   "execution_count": 15,
   "id": "1544670b-c520-4769-9836-d8e8053a0953",
   "metadata": {},
   "outputs": [],
   "source": [
    "# Function that computes primes based on given number\n",
    "# Relatively slow/inefficient, but should be fine\n",
    "# since we don't need performance\n",
    "def isPrime(n):\n",
    "    if (n == 1 or n == 0): return False\n",
    "    if (n % 2 == 0): return (n == 2)\n",
    "    if (n % 3 == 0): return (n == 3)\n",
    "    if (n % 5 == 0): return (n == 5)\n",
    "    if (n % 7 == 0): return (n == 7)\n",
    "    if (n % 11 == 0): return (n == 11)\n",
    "    if (n % 13 == 0): return (n == 13)\n",
    "    \n",
    "    sqrt_n = int(math.sqrt(n)) + 1\n",
    "    \n",
    "    for i in range(17, sqrt_n):\n",
    "        if (n % i == 0): return False\n",
    "    return True"
   ]
  },
  {
   "cell_type": "code",
   "execution_count": 16,
   "id": "a5fa7bdd-9db2-4c13-b639-cf63f6387f54",
   "metadata": {},
   "outputs": [],
   "source": [
    "# Will draw the spiral based on the parameters used in\n",
    "# first cell\n",
    "def drawSpiral():\n",
    "    num_steps = 1 # Maximum number of steps to take per side\n",
    "    num_steps_taken = 0 # Steps taken on a side\n",
    "    has_turned_left = False\n",
    "    \n",
    "    current_val = 1 # Value to check for prime value\n",
    "    max_val = math.pow(canv_length / step_size, 2)\n",
    "    \n",
    "    # Pen that draws the thing\n",
    "    my_turtle = turtle.Turtle()\n",
    "    my_turtle.pencolor(\"white\")\n",
    "    my_turtle.fillcolor(\"white\")\n",
    "    my_turtle.hideturtle()\n",
    "    if (not show_path):\n",
    "        my_turtle.penup()\n",
    "    \n",
    "    while (current_val <= max_val):\n",
    "        current_prime = isPrime(current_val)\n",
    "        # print(\"{}, {}\".format(current_val, \"is prime\" if current_prime else \"is not prime\"))\n",
    "        if (current_prime):\n",
    "            my_turtle.dot(dot_radius, \"white\")\n",
    "        \n",
    "        if (current_val != max_val):\n",
    "            my_turtle.forward(step_size)\n",
    "            current_val += 1\n",
    "            num_steps_taken += 1\n",
    "            if (num_steps_taken == num_steps):\n",
    "                num_steps_taken = 0\n",
    "                if (has_turned_left):\n",
    "                    num_steps += 1\n",
    "                my_turtle.left(90)\n",
    "                has_turned_left = not(has_turned_left)\n",
    "        else:\n",
    "            current_val += 1\n",
    "        "
   ]
  },
  {
   "cell_type": "code",
   "execution_count": 18,
   "id": "ac83f3d3-4900-4fa3-be31-5fe379b7a09b",
   "metadata": {},
   "outputs": [],
   "source": [
    "drawSpiral()"
   ]
  },
  {
   "cell_type": "code",
   "execution_count": 12,
   "id": "ebd08def-fe99-4d55-97c4-9c8135a8e730",
   "metadata": {},
   "outputs": [],
   "source": [
    "# Removes the turtle screen in case you're having trouble with it\n",
    "my_screen.bye()"
   ]
  },
  {
   "cell_type": "code",
   "execution_count": null,
   "id": "6fd9d42d-00e2-4061-a916-297c71274029",
   "metadata": {},
   "outputs": [],
   "source": []
  }
 ],
 "metadata": {
  "kernelspec": {
   "display_name": "Python 3 (ipykernel)",
   "language": "python",
   "name": "python3"
  },
  "language_info": {
   "codemirror_mode": {
    "name": "ipython",
    "version": 3
   },
   "file_extension": ".py",
   "mimetype": "text/x-python",
   "name": "python",
   "nbconvert_exporter": "python",
   "pygments_lexer": "ipython3",
   "version": "3.9.7"
  }
 },
 "nbformat": 4,
 "nbformat_minor": 5
}
